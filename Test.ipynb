{
 "cells": [
  {
   "cell_type": "code",
   "execution_count": 1,
   "metadata": {},
   "outputs": [],
   "source": [
    "import os\n",
    "import sys\n",
    "import spacy\n",
    "\n",
    "from sklearn.preprocessing import normalize\n",
    "from sklearn.cluster import KMeans\n",
    "\n",
    "# load up spacy and ready it for use\n",
    "nlp = spacy.load('en_core_web_lg')"
   ]
  },
  {
   "cell_type": "code",
   "execution_count": 2,
   "metadata": {},
   "outputs": [],
   "source": [
    "dir = '/Users/ryan/spaCy_test/clean/test'"
   ]
  },
  {
   "cell_type": "code",
   "execution_count": 29,
   "metadata": {},
   "outputs": [
    {
     "name": "stdout",
     "output_type": "stream",
     "text": [
      "[('pokemon.txt', 0), ('mango.txt', 1), ('bunnies.txt', 2), ('pandas.txt', 2), ('banana.txt', 1), ('power_rangers.txt', 0)]\n"
     ]
    }
   ],
   "source": [
    "docs = {}\n",
    "for file in os.listdir(dir):\n",
    "     filename = os.fsdecode(file)\n",
    "     f =  open(dir + '/' + file)\n",
    "     text = f.read()\n",
    "     docs[filename] = nlp(text).vector\n",
    "    \n",
    "X = list(docs.values())\n",
    "n_clusters = 3\n",
    "\n",
    "kmeans = KMeans(n_clusters=n_clusters, random_state=0).fit(X)\n",
    "print(list(zip(docs.keys(), kmeans.labels_)))"
   ]
  },
  {
   "cell_type": "code",
   "execution_count": 30,
   "metadata": {},
   "outputs": [
    {
     "data": {
      "text/plain": [
       "1.1496235170881144"
      ]
     },
     "execution_count": 30,
     "metadata": {},
     "output_type": "execute_result"
    }
   ],
   "source": [
    "kmeans.inertia_"
   ]
  },
  {
   "cell_type": "code",
   "execution_count": 31,
   "metadata": {},
   "outputs": [
    {
     "name": "stdout",
     "output_type": "stream",
     "text": [
      "1\n",
      "[('pokemon.txt', 0), ('mango.txt', 0), ('bunnies.txt', 0), ('pandas.txt', 0), ('banana.txt', 0), ('power_rangers.txt', 0)]\n",
      "3.7505807637620157\n",
      "2\n",
      "[('pokemon.txt', 1), ('mango.txt', 0), ('bunnies.txt', 0), ('pandas.txt', 0), ('banana.txt', 0), ('power_rangers.txt', 1)]\n",
      "1.8938316999022429\n",
      "3\n",
      "[('pokemon.txt', 0), ('mango.txt', 1), ('bunnies.txt', 2), ('pandas.txt', 2), ('banana.txt', 1), ('power_rangers.txt', 0)]\n",
      "1.1496235170881144\n",
      "4\n",
      "[('pokemon.txt', 2), ('mango.txt', 0), ('bunnies.txt', 3), ('pandas.txt', 3), ('banana.txt', 0), ('power_rangers.txt', 1)]\n",
      "0.6717699133223993\n",
      "5\n",
      "[('pokemon.txt', 3), ('mango.txt', 0), ('bunnies.txt', 2), ('pandas.txt', 4), ('banana.txt', 0), ('power_rangers.txt', 1)]\n",
      "0.2996697236318403\n"
     ]
    }
   ],
   "source": [
    "n = len(docs)\n",
    "for i in range(1, n):\n",
    "    print(i)\n",
    "    n_clusters = i\n",
    "    kmeans = KMeans(n_clusters=n_clusters, random_state=0).fit(X)\n",
    "    print(list(zip(docs.keys(), kmeans.labels_)))\n",
    "    print(kmeans.inertia_)"
   ]
  },
  {
   "cell_type": "code",
   "execution_count": null,
   "metadata": {},
   "outputs": [],
   "source": []
  }
 ],
 "metadata": {
  "kernelspec": {
   "display_name": "Python 3",
   "language": "python",
   "name": "python3"
  },
  "language_info": {
   "codemirror_mode": {
    "name": "ipython",
    "version": 3
   },
   "file_extension": ".py",
   "mimetype": "text/x-python",
   "name": "python",
   "nbconvert_exporter": "python",
   "pygments_lexer": "ipython3",
   "version": "3.7.0"
  }
 },
 "nbformat": 4,
 "nbformat_minor": 2
}
